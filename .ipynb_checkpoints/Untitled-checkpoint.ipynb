{
 "cells": [
  {
   "cell_type": "code",
   "execution_count": 4,
   "id": "c3980c36-7a29-4389-978d-43f2c9b6b61d",
   "metadata": {},
   "outputs": [
    {
     "data": {
      "text/html": [
       "<div>\n",
       "<style scoped>\n",
       "    .dataframe tbody tr th:only-of-type {\n",
       "        vertical-align: middle;\n",
       "    }\n",
       "\n",
       "    .dataframe tbody tr th {\n",
       "        vertical-align: top;\n",
       "    }\n",
       "\n",
       "    .dataframe thead th {\n",
       "        text-align: right;\n",
       "    }\n",
       "</style>\n",
       "<table border=\"1\" class=\"dataframe\">\n",
       "  <thead>\n",
       "    <tr style=\"text-align: right;\">\n",
       "      <th></th>\n",
       "      <th>Clothing Name</th>\n",
       "      <th>Category</th>\n",
       "      <th>Cost</th>\n",
       "      <th>Fashion Score</th>\n",
       "    </tr>\n",
       "  </thead>\n",
       "  <tbody>\n",
       "    <tr>\n",
       "      <th>0</th>\n",
       "      <td>Red Blouse</td>\n",
       "      <td>Upper Half</td>\n",
       "      <td>10</td>\n",
       "      <td>4</td>\n",
       "    </tr>\n",
       "    <tr>\n",
       "      <th>1</th>\n",
       "      <td>Polka Dot Top</td>\n",
       "      <td>Upper Half</td>\n",
       "      <td>5</td>\n",
       "      <td>2</td>\n",
       "    </tr>\n",
       "    <tr>\n",
       "      <th>2</th>\n",
       "      <td>Blue Button Down</td>\n",
       "      <td>Upper Half</td>\n",
       "      <td>3</td>\n",
       "      <td>1</td>\n",
       "    </tr>\n",
       "    <tr>\n",
       "      <th>3</th>\n",
       "      <td>Ugly Xmas Sweater</td>\n",
       "      <td>Upper Half</td>\n",
       "      <td>1</td>\n",
       "      <td>1</td>\n",
       "    </tr>\n",
       "    <tr>\n",
       "      <th>4</th>\n",
       "      <td>Classic Jeans</td>\n",
       "      <td>Lower Half</td>\n",
       "      <td>20</td>\n",
       "      <td>5</td>\n",
       "    </tr>\n",
       "    <tr>\n",
       "      <th>5</th>\n",
       "      <td>MC Hammer pants</td>\n",
       "      <td>Lower Half</td>\n",
       "      <td>10</td>\n",
       "      <td>1</td>\n",
       "    </tr>\n",
       "    <tr>\n",
       "      <th>6</th>\n",
       "      <td>Glasses</td>\n",
       "      <td>Accessories</td>\n",
       "      <td>5</td>\n",
       "      <td>1</td>\n",
       "    </tr>\n",
       "    <tr>\n",
       "      <th>7</th>\n",
       "      <td>Blue Tie</td>\n",
       "      <td>Accessories</td>\n",
       "      <td>3</td>\n",
       "      <td>1</td>\n",
       "    </tr>\n",
       "    <tr>\n",
       "      <th>8</th>\n",
       "      <td>High Heels</td>\n",
       "      <td>Shoes</td>\n",
       "      <td>15</td>\n",
       "      <td>4</td>\n",
       "    </tr>\n",
       "    <tr>\n",
       "      <th>9</th>\n",
       "      <td>Sneakers</td>\n",
       "      <td>Shoes</td>\n",
       "      <td>13</td>\n",
       "      <td>3</td>\n",
       "    </tr>\n",
       "  </tbody>\n",
       "</table>\n",
       "</div>"
      ],
      "text/plain": [
       "       Clothing Name     Category  Cost  Fashion Score\n",
       "0         Red Blouse   Upper Half    10              4\n",
       "1      Polka Dot Top   Upper Half     5              2\n",
       "2   Blue Button Down   Upper Half     3              1\n",
       "3  Ugly Xmas Sweater   Upper Half     1              1\n",
       "4      Classic Jeans   Lower Half    20              5\n",
       "5    MC Hammer pants   Lower Half    10              1\n",
       "6            Glasses  Accessories     5              1\n",
       "7           Blue Tie  Accessories     3              1\n",
       "8         High Heels        Shoes    15              4\n",
       "9           Sneakers        Shoes    13              3"
      ]
     },
     "execution_count": 4,
     "metadata": {},
     "output_type": "execute_result"
    }
   ],
   "source": [
    "import pandas as pd\n",
    "\n",
    "clothes = pd.read_csv(\"DressUp Game - Sheet1.csv\")\n",
    "clothes"
   ]
  },
  {
   "cell_type": "code",
   "execution_count": 5,
   "id": "9822e20e-2a8c-4077-b0e5-bef18231fe29",
   "metadata": {},
   "outputs": [
    {
     "data": {
      "text/plain": [
       "7"
      ]
     },
     "execution_count": 5,
     "metadata": {},
     "output_type": "execute_result"
    }
   ],
   "source": [
    "wearing = [\"Red Blouse\", \"Polka Dot Top\", \"Blue Button Down\"]\n",
    "\n",
    "\n",
    "clothes[clothes[\"Clothing Name\"].isin(wearing)][\"Fashion Score\"].sum()\n"
   ]
  },
  {
   "cell_type": "code",
   "execution_count": 25,
   "id": "d0cf366e-810e-4287-9c76-ff1fb3bc12a2",
   "metadata": {},
   "outputs": [
    {
     "name": "stdout",
     "output_type": "stream",
     "text": [
      "Which item would you like to buy?  Red Blouse\n"
     ]
    },
    {
     "name": "stdout",
     "output_type": "stream",
     "text": [
      "[0]\n",
      "0    10\n",
      "Name: Cost, dtype: int64\n"
     ]
    }
   ],
   "source": [
    "closet = []\n",
    "budget = 100\n",
    "item = input(str(\"Which item would you like to buy? \"))\n",
    "item_index = clothes[clothes[\"Clothing Name\"] == item].index.values\n",
    "item_cost = clothes.loc[clothes.index[item_index], \"Cost\"]\n",
    "#if (clothes[\"Clothing Name\"].eq(item)).any() and (budget > item_cost):\n",
    "    #closet.append(item)\n",
    "    #budget -= item_cost\n",
    "print(item_index)\n",
    "print(clothes.loc[item_index, 'Cost'])"
   ]
  },
  {
   "cell_type": "code",
   "execution_count": null,
   "id": "2b57399b-66a8-4899-8f22-2fec82766245",
   "metadata": {},
   "outputs": [],
   "source": []
  }
 ],
 "metadata": {
  "kernelspec": {
   "display_name": "Python 3.10.6 64-bit",
   "language": "python",
   "name": "python3"
  },
  "language_info": {
   "codemirror_mode": {
    "name": "ipython",
    "version": 3
   },
   "file_extension": ".py",
   "mimetype": "text/x-python",
   "name": "python",
   "nbconvert_exporter": "python",
   "pygments_lexer": "ipython3",
   "version": "3.10.6"
  },
  "vscode": {
   "interpreter": {
    "hash": "9a5507c129a05bfdc77ef541b8cef54ca34be21723ca2ada5f657bc6ecbd397c"
   }
  }
 },
 "nbformat": 4,
 "nbformat_minor": 5
}
