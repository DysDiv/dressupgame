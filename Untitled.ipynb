{
 "cells": [
  {
   "cell_type": "code",
   "execution_count": 2,
   "id": "c3980c36-7a29-4389-978d-43f2c9b6b61d",
   "metadata": {},
   "outputs": [
    {
     "data": {
      "text/html": [
       "<div>\n",
       "<style scoped>\n",
       "    .dataframe tbody tr th:only-of-type {\n",
       "        vertical-align: middle;\n",
       "    }\n",
       "\n",
       "    .dataframe tbody tr th {\n",
       "        vertical-align: top;\n",
       "    }\n",
       "\n",
       "    .dataframe thead th {\n",
       "        text-align: right;\n",
       "    }\n",
       "</style>\n",
       "<table border=\"1\" class=\"dataframe\">\n",
       "  <thead>\n",
       "    <tr style=\"text-align: right;\">\n",
       "      <th></th>\n",
       "      <th>Clothing Name</th>\n",
       "      <th>Category</th>\n",
       "      <th>Cost</th>\n",
       "      <th>Fashion Score</th>\n",
       "    </tr>\n",
       "  </thead>\n",
       "  <tbody>\n",
       "    <tr>\n",
       "      <th>0</th>\n",
       "      <td>Red Blouse</td>\n",
       "      <td>Upper Half</td>\n",
       "      <td>10</td>\n",
       "      <td>4</td>\n",
       "    </tr>\n",
       "    <tr>\n",
       "      <th>1</th>\n",
       "      <td>Polka Dot Top</td>\n",
       "      <td>Upper Half</td>\n",
       "      <td>5</td>\n",
       "      <td>2</td>\n",
       "    </tr>\n",
       "    <tr>\n",
       "      <th>2</th>\n",
       "      <td>Blue Button Down</td>\n",
       "      <td>Upper Half</td>\n",
       "      <td>3</td>\n",
       "      <td>1</td>\n",
       "    </tr>\n",
       "    <tr>\n",
       "      <th>3</th>\n",
       "      <td>Ugly Xmas Sweater</td>\n",
       "      <td>Upper Half</td>\n",
       "      <td>1</td>\n",
       "      <td>1</td>\n",
       "    </tr>\n",
       "    <tr>\n",
       "      <th>4</th>\n",
       "      <td>Classic Jeans</td>\n",
       "      <td>Lower Half</td>\n",
       "      <td>20</td>\n",
       "      <td>5</td>\n",
       "    </tr>\n",
       "    <tr>\n",
       "      <th>5</th>\n",
       "      <td>MC Hammer pants</td>\n",
       "      <td>Lower Half</td>\n",
       "      <td>10</td>\n",
       "      <td>1</td>\n",
       "    </tr>\n",
       "    <tr>\n",
       "      <th>6</th>\n",
       "      <td>Glasses</td>\n",
       "      <td>Accessories</td>\n",
       "      <td>5</td>\n",
       "      <td>1</td>\n",
       "    </tr>\n",
       "    <tr>\n",
       "      <th>7</th>\n",
       "      <td>Blue Tie</td>\n",
       "      <td>Accessories</td>\n",
       "      <td>3</td>\n",
       "      <td>1</td>\n",
       "    </tr>\n",
       "    <tr>\n",
       "      <th>8</th>\n",
       "      <td>High Heels</td>\n",
       "      <td>Shoes</td>\n",
       "      <td>15</td>\n",
       "      <td>4</td>\n",
       "    </tr>\n",
       "    <tr>\n",
       "      <th>9</th>\n",
       "      <td>Sneakers</td>\n",
       "      <td>Shoes</td>\n",
       "      <td>13</td>\n",
       "      <td>3</td>\n",
       "    </tr>\n",
       "  </tbody>\n",
       "</table>\n",
       "</div>"
      ],
      "text/plain": [
       "       Clothing Name     Category  Cost  Fashion Score\n",
       "0         Red Blouse   Upper Half    10              4\n",
       "1      Polka Dot Top   Upper Half     5              2\n",
       "2   Blue Button Down   Upper Half     3              1\n",
       "3  Ugly Xmas Sweater   Upper Half     1              1\n",
       "4      Classic Jeans   Lower Half    20              5\n",
       "5    MC Hammer pants   Lower Half    10              1\n",
       "6            Glasses  Accessories     5              1\n",
       "7           Blue Tie  Accessories     3              1\n",
       "8         High Heels        Shoes    15              4\n",
       "9           Sneakers        Shoes    13              3"
      ]
     },
     "execution_count": 2,
     "metadata": {},
     "output_type": "execute_result"
    }
   ],
   "source": [
    "import pandas as pd\n",
    "\n",
    "clothes = pd.read_csv(\"DressUp Game - Sheet1.csv\")\n",
    "clothes"
   ]
  },
  {
   "cell_type": "code",
   "execution_count": 12,
   "id": "9822e20e-2a8c-4077-b0e5-bef18231fe29",
   "metadata": {},
   "outputs": [
    {
     "data": {
      "text/plain": [
       "7"
      ]
     },
     "execution_count": 12,
     "metadata": {},
     "output_type": "execute_result"
    }
   ],
   "source": [
    "wearing = [\"Red Blouse\", \"Polka Dot Top\", \"Blue Button Down\"]\n",
    "\n",
    "\n",
    "clothes[clothes[\"Clothing Name\"].isin(wearing)][\"Fashion Score\"].sum()\n"
   ]
  },
  {
   "cell_type": "code",
   "execution_count": null,
   "id": "d0cf366e-810e-4287-9c76-ff1fb3bc12a2",
   "metadata": {},
   "outputs": [],
   "source": [
    "import pandas as pd\n",
    "\n",
    "# def budget_tracker(self, budget):\n",
    "#     budget = 100\n",
    "#     clothes = pd.read_csv(\"DressUp Game - Sheet1.csv\")\n",
    "#     wearing = [\"Red Blouse\", \"Polka Dot Top\", \"Blue Button Down\"]\n",
    "# wearing.pop()\n",
    "# wearing.append(\"High Heels\")\n",
    "    empty = []\n",
    "    if self.sell_clothes or self.buy_clothes:\n",
    "        while budget > 0:\n",
    "            budget -= clothes[clothes[\"Clothing Name\"].isin(wearing)][\"Cost\"].sum()\n",
    "            empty.append(budget)\n",
    "        clothes[\"Budget\"] = pd.Series(empty)\n",
    "        return clothes"
   ]
  },
  {
   "cell_type": "code",
   "execution_count": null,
   "id": "638088a1",
   "metadata": {},
   "outputs": [],
   "source": [
    "#Anna code:\n",
    "\n",
    "def visualize(self, budget, time, file):\n",
    "        \"\"\" \n",
    "        Plots Budget over time using either seaborn or pyplot\n",
    "        \n",
    "        Args:\n",
    "           budget (float): amount of money the player has left after spending\n",
    "           time (int): the length of the game running\n",
    "        \n",
    "        Side Effects: \n",
    "            plot of budget over time\n",
    "        \"\"\"\n",
    "\n",
    "        clothes = pd.read_csv(file)   \n",
    "        empty = []\n",
    "        if self.buy_clothes:\n",
    "            budget -= clothes[clothes[\"Clothing Name\"].isin(self.wearing)][\n",
    "                \"Cost\"].sum()\n",
    "            time +=1\n",
    "            empty.append(budget)\n",
    "        if self.sell_clothes:\n",
    "            budget += clothes[clothes[\"Clothing Name\"].isin(self.wearing)][\n",
    "                \"Cost\"].sum()\n",
    "            time +=1\n",
    "            empty.append(budget)\n",
    "            \n",
    "        clothes[\"Budget\"] = pd.Series(empty)\n",
    "        clothes[\"Time\"] = pd.Series(time)\n",
    "        clothes.plot.bar(x = \"Budget\", y = \"Time\")\n",
    "        \n",
    "    def judge(self, file):\n",
    "        \"\"\"Judges user clothes based on fashion code\n",
    "\n",
    "        Args:\n",
    "            file (str): a csv file for the catalouge\n",
    "        \"\"\"\n",
    "        clothes = pd.read_csv(file)  \n",
    "        fashion_sum = clothes[clothes[\"Clothing Name\"].isin(self.wearing)]\n",
    "        [\"Fashion Score\"].sum()\n",
    "        \n",
    "        if fashion_sum <= 5:\n",
    "            print(f\"Loser, do better. \\n Fashion Score: {fashion_sum}/25\")\n",
    "        elif fashion_sum >= 6 and fashion_sum <= 10:\n",
    "            print(f\"Getting There. \\n Fashion Score: {fashion_sum}/25\")\n",
    "        elif fashion_sum >= 11 and fashion_sum <= 15:\n",
    "            print(f\"So Close... \\n Fashion Score: {fashion_sum}/25\")  \n",
    "        elif fashion_sum >= 16 and fashion_sum <= 20:\n",
    "            print(f\"Great Job! \\n Fashion Score: {fashion_sum}/25\")\n",
    "        else: \n",
    "            print(f\"Perfect Score!!! \\n Fashion Score: {fashion_sum}/25\")\n",
    "        if self.wearing == [\"Blue Button Down\", \"Classic Jeans\", \"Blue Tie\", \"Glasses\"]:\n",
    "            im = Image.open(r\"/Users/miamonique/Desktop/candi.png\")\n",
    "            im.show()"
   ]
  },
  {
   "cell_type": "code",
   "execution_count": 3,
   "id": "cc99b666-65af-4333-9e76-b056d5b42fb2",
   "metadata": {},
   "outputs": [
    {
     "name": "stdin",
     "output_type": "stream",
     "text": [
      "Which item are you interested in selling? 1\n"
     ]
    },
    {
     "ename": "ValueError",
     "evalue": "invalid literal for int() with base 10: '1 \\nType num: '",
     "output_type": "error",
     "traceback": [
      "\u001b[1;31m---------------------------------------------------------------------------\u001b[0m",
      "\u001b[1;31mValueError\u001b[0m                                Traceback (most recent call last)",
      "\u001b[1;32m~\\AppData\\Local\\Temp/ipykernel_45424/2858269429.py\u001b[0m in \u001b[0;36m<module>\u001b[1;34m\u001b[0m\n\u001b[0;32m      8\u001b[0m     catalogue[\"Category\"], catalogue[\"Cost\"])])\n\u001b[0;32m      9\u001b[0m \u001b[1;33m\u001b[0m\u001b[0m\n\u001b[1;32m---> 10\u001b[1;33m itemindex = int(input(\"Which item are you interested in selling?\")\n\u001b[0m\u001b[0;32m     11\u001b[0m                 + \" \\nType num: \")\n\u001b[0;32m     12\u001b[0m \u001b[1;33m\u001b[0m\u001b[0m\n",
      "\u001b[1;31mValueError\u001b[0m: invalid literal for int() with base 10: '1 \\nType num: '"
     ]
    }
   ],
   "source": [
    "import pandas as pd\n",
    "catalogue = pd.read_csv(r\"C:\\Users\\tflav\\OneDrive\\Desktop\\dressupgame\\DressUp Game - Sheet1.csv\")\n",
    "        \n",
    "display = catalogue.sort_values(by = \"Cost\")\n",
    "display = ([(f\"{Index}: {Name} ({Category}) ${Cost}\") \n",
    "    for Index, Name, Category, Cost\n",
    "    in zip(catalogue.index, catalogue[\"Clothing Name\"],\n",
    "    catalogue[\"Category\"], catalogue[\"Cost\"])])\n",
    "\n",
    "itemindex = int(input(\"Which item are you interested in selling?\")\n",
    "                + \" \\nType num: \")\n",
    "        \n",
    "        \n",
    "itemcost = int(catalogue[\"Cost\"].loc[catalogue.index[itemindex]])\n",
    "        \n",
    "for x in self.closet:\n",
    "    self.closet.append(f\"This item will be sold at ${(itemcost) * 0.5}\")\n",
    "        \n",
    "display = ([(f\"{Index}: {Name}, ${Cost}\") \n",
    "            for Index, Name, Cost\n",
    "            in zip(catalogue.index, catalogue[\"Clothing Name\"],\n",
    "                    catalogue[\"Cost\"])])"
   ]
  },
  {
   "cell_type": "code",
   "execution_count": null,
   "id": "eb59985a-cca6-420e-b0fb-fc0577fe676c",
   "metadata": {},
   "outputs": [],
   "source": []
  }
 ],
 "metadata": {
  "kernelspec": {
   "display_name": "Python 3 (ipykernel)",
   "language": "python",
   "name": "python3"
  },
  "language_info": {
   "codemirror_mode": {
    "name": "ipython",
    "version": 3
   },
   "file_extension": ".py",
   "mimetype": "text/x-python",
   "name": "python",
   "nbconvert_exporter": "python",
   "pygments_lexer": "ipython3",
   "version": "3.9.7"
  },
  "vscode": {
   "interpreter": {
    "hash": "aee8b7b246df8f9039afb4144a1f6fd8d2ca17a180786b69acc140d282b71a49"
   }
  }
 },
 "nbformat": 4,
 "nbformat_minor": 5
}
